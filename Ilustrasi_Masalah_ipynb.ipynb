{
  "nbformat": 4,
  "nbformat_minor": 0,
  "metadata": {
    "colab": {
      "provenance": [],
      "include_colab_link": true
    },
    "kernelspec": {
      "name": "python3",
      "display_name": "Python 3"
    },
    "language_info": {
      "name": "python"
    }
  },
  "cells": [
    {
      "cell_type": "markdown",
      "metadata": {
        "id": "view-in-github",
        "colab_type": "text"
      },
      "source": [
        "<a href=\"https://colab.research.google.com/github/Ervita5/Last-mile/blob/main/Ilustrasi_Masalah_ipynb.ipynb\" target=\"_parent\"><img src=\"https://colab.research.google.com/assets/colab-badge.svg\" alt=\"Open In Colab\"/></a>"
      ]
    },
    {
      "cell_type": "code",
      "execution_count": null,
      "metadata": {
        "colab": {
          "base_uri": "https://localhost:8080/",
          "height": 472
        },
        "id": "uHrTFEzvQOod",
        "outputId": "931e3455-dfed-4686-bae7-7fe2d10deade"
      },
      "outputs": [
        {
          "output_type": "display_data",
          "data": {
            "text/plain": [
              "<Figure size 640x480 with 1 Axes>"
            ],
            "image/png": "[encoded data removed]"
          },
          "metadata": {}
        }
      ],
      "source": [
        "import matplotlib.pyplot as plt\n",
        "import numpy as np\n",
        "\n",
        "# Data koordinat\n",
        "data = np.array([[4, 21, 1], [5, 18, 1], [10, 24, 1], [4, 17, 1], [3, 16, 1], [11, 25, 1], [12, 24, 1], [6, 22, 1], [13, 20, 1], [12, 21, 1]])\n",
        "\n",
        "# Pisahkan data menjadi x dan y\n",
        "x = data[:, 0]\n",
        "y = data[:, 1]\n",
        "\n",
        "# Memisahkan data menjadi dua kategori\n",
        "kategori_1 = data[data[:, 2] == 1]\n",
        "kategori_2 = data[data[:, 2] == 2]\n",
        "\n",
        "# Plot data\n",
        "plt.scatter(kategori_1[:, 0], kategori_1[:, 1], label='Kategori 1')\n",
        "plt.scatter(kategori_2[:, 0], kategori_2[:, 1], label='Kategori 2')\n",
        "\n",
        "# Beri label pada sumbu x dan y\n",
        "plt.xlabel('X-axis')\n",
        "plt.ylabel('Y-axis')\n",
        "\n",
        "plt.title('Lokasi pelanggan')\n",
        "# Tampilkan plot\n",
        "plt.show()\n"
      ]
    },
    {
      "cell_type": "code",
      "source": [
        "import numpy as np\n",
        "import matplotlib.pyplot as plt\n",
        "\n",
        "# Data koordinat\n",
        "data = np.array([[4, 21, 1], [5, 18, 1], [10, 24, 1], [4, 17, 1], [3, 16, 1], [11, 25, 1], [12, 24, 1], [6, 22, 1], [13, 20, 1], [12, 21, 1]])\n",
        "\n",
        "# Menghitung jarak Euclidean antara dua titik\n",
        "def euclidean_distance(coord1, coord2):\n",
        "    return np.linalg.norm(coord1[:2] - coord2[:2])\n",
        "\n",
        "\n",
        "def gaussian_kernel(distance, bandwidth):\n",
        "    return np.exp(-0.5 * ((distance / bandwidth) ** 2))\n",
        "\n",
        "def mean_shift(data, bandwidth=2, max_iterations=10):\n",
        "    for _ in range(max_iterations):\n",
        "        new_data = []\n",
        "\n",
        "        for x in data:\n",
        "            total_weight = 0.0\n",
        "            weighted_sum = np.zeros_like(x, dtype=np.float64)\n",
        "\n",
        "            for xi in data:\n",
        "                distance = euclidean_distance(x, xi)\n",
        "                weight = gaussian_kernel(distance, bandwidth)\n",
        "                total_weight += weight\n",
        "                weighted_sum += (weight * np.array(xi))\n",
        "\n",
        "            if total_weight > 0:\n",
        "                new_x = weighted_sum / total_weight\n",
        "                new_data.append(new_x)\n",
        "\n",
        "        if not new_data:\n",
        "            break\n",
        "\n",
        "        data = np.array(new_data)\n",
        "\n",
        "    return data\n",
        "\n",
        "# Menjalankan Mean Shift Clustering secara manual\n",
        "result = mean_shift(data)\n",
        "\n",
        "#menentukan centroid\n",
        "def group_similar_points(data, threshold=0.001):\n",
        "    grouped_data = {}\n",
        "    for point in data:\n",
        "        rounded_point = np.round(point[:2], decimals=3)  # Round only latitude and longitude\n",
        "        if tuple(rounded_point) not in grouped_data:\n",
        "            grouped_data[tuple(rounded_point)] = point\n",
        "\n",
        "    return list(grouped_data.values())\n",
        "\n",
        "simplified_modes = group_similar_points(result)\n",
        "\n",
        "# Membuat fungsi untuk mengelompokkan data berdasarkan pusat cluster\n",
        "# Fungsi untuk mengelompokkan data berdasarkan pusat kluster\n",
        "def assign_to_clusters(data, centroids):\n",
        "    clusters = [{'center': centroid, 'points': []} for centroid in centroids]\n",
        "\n",
        "    for point in data:\n",
        "        distances = [euclidean_distance(point, centroid['center']) for centroid in clusters]\n",
        "        cluster_index = np.argmin(distances)\n",
        "        clusters[cluster_index]['points'].append(point)\n",
        "\n",
        "    return clusters\n",
        "\n",
        "# Menjalankan Mean Shift Clustering secara manual\n",
        "result = mean_shift(data)\n",
        "\n",
        "# Menetapkan data ke dalam kelompok berdasarkan centroid\n",
        "cluster_centers = np.array(simplified_modes)\n",
        "result_clusters = assign_to_clusters(data, cluster_centers)\n",
        "\n",
        "# Untuk visualisasi hasil clustering\n",
        "# panjang = 10 dan lebar = 8\n",
        "plt.figure(figsize=(10, 8))\n",
        "\n",
        "# Untuk plotting klaster\n",
        "for i, cluster in enumerate(result_clusters):\n",
        "    cluster_data = np.array(cluster['points'])\n",
        "    plt.scatter(cluster_data[:, 0], cluster_data[:, 1], label=f'Cluster {i + 1}', s=50)\n",
        "\n",
        "# untuk scatter plot centroid\n",
        "plt.scatter(cluster_centers[:, 0], cluster_centers[:, 1], label='Centroids', s=200, c='red', marker='*')\n",
        "# Untuk memberikan judul plot\n",
        "plt.title('Mean Shift Clustering')\n",
        "# Untuk label x\n",
        "plt.xlabel('x')\n",
        "# Untuk label y\n",
        "plt.ylabel('y')\n",
        "\n",
        "plt.grid(True)\n",
        "plt.legend()\n",
        "plt.show()"
      ],
      "metadata": {
        "colab": {
          "base_uri": "https://localhost:8080/",
          "height": 718
        },
        "id": "C9CCTVjlQWib",
        "outputId": "5c36e70a-943b-4a7c-fcb6-f1709080ef85"
      },
      "execution_count": null,
      "outputs": [
        {
          "output_type": "display_data",
          "data": {
            "text/plain": [
              "<Figure size 1000x800 with 1 Axes>"
            ],
            "image/png": "[encoded data removed]"
          },
          "metadata": {}
        }
      ]
    },
    {
      "cell_type": "code",
      "source": [
        "# Memeriksa klaster dengan lebih dari 15 titik observasi dan memprint informasi mengenai cluster yang lebih dari 15 titik observasi\n",
        "for i, cluster in enumerate(result_clusters):\n",
        "    # memeriksa apakah klaster memiliki lebih dari 15 observasi\n",
        "    if len(cluster['points']) > 15:\n",
        "        # Menampilkan informasi mengenai klaster yang memiliki lebih dari 15 titik observasi\n",
        "        print(f\"kluster {i + 1} memiliki {len(cluster['points'])} titik observasi, lebih dari 15.\")\n",
        "    else:\n",
        "      #Jika tidak ada titik yang melanggar, cetak informasi bahwa klaster tidak melanggar\n",
        "        print(f\"klaster {i + 1} tidak memiliki titik yang melanggar batasan jumlah anggota dalam klaster.\")\n",
        "\n",
        "# Memeriksa jarak titik dari centroid di setiap klaster\n",
        "threshold_distance = 4  # ini adalah batasan jarak yang diberikan\n",
        "\n",
        "for i, cluster in enumerate(result_clusters):\n",
        "    # Mengambil nilai pusat dari cluster\n",
        "    centroid = cluster['center'][:2]\n",
        "    # Inisiasi list kosong\n",
        "    points_to_move = []\n",
        "\n",
        "    # Menghitung jarak dari pusat ke titik-titik observasi dalam klaster yang sama\n",
        "    for point in cluster['points']:\n",
        "        distance_to_centroid = euclidean_distance(point, centroid)\n",
        "        # Memeriksa apakah ada jarak yang lebih dari 4 km\n",
        "        if distance_to_centroid > threshold_distance:\n",
        "            # Jika ada yang lebih dari 4 maka tambahkan ke list points_to_move\n",
        "            points_to_move.append(point)\n",
        "\n",
        "    # Menandakan apakah terdapat titik yang melanggar batasan\n",
        "    if points_to_move:\n",
        "        print(f\"Klaster {i + 1} memiliki {len(points_to_move)} titik yang melanggar batasan jarak lebih dari {threshold_distance} km.\")\n",
        "    else:\n",
        "        # Jika tidak ada titik yang melanggar, cetak informasi bahwa klaster tidak melanggar\n",
        "        print(f\"Klaster {i + 1} tidak memiliki titik yang melanggar batasan jarak.\")\n"
      ],
      "metadata": {
        "colab": {
          "base_uri": "https://localhost:8080/"
        },
        "id": "AVY_AgAfQbre",
        "outputId": "71f18bb0-0e89-413c-f5b5-a040528da852"
      },
      "execution_count": null,
      "outputs": [
        {
          "output_type": "stream",
          "name": "stdout",
          "text": [
            "klaster 1 tidak memiliki titik yang melanggar batasan jumlah anggota dalam klaster.\n",
            "klaster 2 tidak memiliki titik yang melanggar batasan jumlah anggota dalam klaster.\n",
            "Klaster 1 tidak memiliki titik yang melanggar batasan jarak.\n",
            "Klaster 2 tidak memiliki titik yang melanggar batasan jarak.\n"
          ]
        }
      ]
    },
    {
      "cell_type": "code",
      "source": [
        "# Menghitung jarak dari pusat kluster ke titik-titik observasi\n",
        "for i, cluster in enumerate(result_clusters):\n",
        "    center = cluster_centers[i][:2]  # Mengambil dua koordinat pertama dari pusat kluster\n",
        "    points = np.array(cluster['points'])[:, :2]  # Mengambil kolom pertama dan kedua (X dan Y) dari setiap titik\n",
        "\n",
        "    print(f\"Jarak dari Pusat Kluster {i + 1} ke Titik-titik Observasi:\")\n",
        "\n",
        "    for point in points:\n",
        "        distance = euclidean_distance(center, point)\n",
        "        print(f\"   Jarak dari {center} ke {point} adalah {distance:.2f} satuan\")\n"
      ],
      "metadata": {
        "id": "UqQAAw1hQ3W1",
        "colab": {
          "base_uri": "https://localhost:8080/"
        },
        "outputId": "3798e623-ff44-4ef8-da1c-8759eb83b110"
      },
      "execution_count": null,
      "outputs": [
        {
          "output_type": "stream",
          "name": "stdout",
          "text": [
            "Jarak dari Pusat Kluster 1 ke Titik-titik Observasi:\n",
            "   Jarak dari [ 4.45826216 18.6521219 ] ke [ 4 21] adalah 2.39 satuan\n",
            "   Jarak dari [ 4.45826216 18.6521219 ] ke [ 5 18] adalah 0.85 satuan\n",
            "   Jarak dari [ 4.45826216 18.6521219 ] ke [ 4 17] adalah 1.71 satuan\n",
            "   Jarak dari [ 4.45826216 18.6521219 ] ke [ 3 16] adalah 3.03 satuan\n",
            "   Jarak dari [ 4.45826216 18.6521219 ] ke [ 6 22] adalah 3.69 satuan\n",
            "Jarak dari Pusat Kluster 2 ke Titik-titik Observasi:\n",
            "   Jarak dari [11.46275245 22.92155195] ke [10 24] adalah 1.82 satuan\n",
            "   Jarak dari [11.46275245 22.92155195] ke [11 25] adalah 2.13 satuan\n",
            "   Jarak dari [11.46275245 22.92155195] ke [12 24] adalah 1.20 satuan\n",
            "   Jarak dari [11.46275245 22.92155195] ke [13 20] adalah 3.30 satuan\n",
            "   Jarak dari [11.46275245 22.92155195] ke [12 21] adalah 2.00 satuan\n"
          ]
        }
      ]
    },
    {
      "cell_type": "code",
      "source": [
        "import numpy as np\n",
        "\n",
        "# Koordinat titik\n",
        "titik_1 = np.array([0, 25])\n",
        "cluster_centers = np.array([(4.45826216, 18.6521219), (11.46275245, 22.92155195)])\n",
        "\n",
        "# Menghitung jarak Euclidean\n",
        "jarak_euclidean_1 = np.sqrt(np.sum((titik_1 - cluster_centers[0])**2))\n",
        "jarak_euclidean_2 = np.sqrt(np.sum((titik_1 - cluster_centers[1])**2))\n",
        "\n",
        "# Menampilkan hasil\n",
        "print(f\"Jarak Euclidean dengan titik pertama: {jarak_euclidean_1:.2f}\")\n",
        "print(f\"Jarak Euclidean dengan titik kedua: {jarak_euclidean_2:.2f}\")\n"
      ],
      "metadata": {
        "id": "XuNHa7-QQ6mD",
        "colab": {
          "base_uri": "https://localhost:8080/"
        },
        "outputId": "a5c5a4d5-e401-41af-aab3-70523a130cde"
      },
      "execution_count": null,
      "outputs": [
        {
          "output_type": "stream",
          "name": "stdout",
          "text": [
            "Jarak Euclidean dengan titik pertama: 7.76\n",
            "Jarak Euclidean dengan titik kedua: 11.65\n"
          ]
        }
      ]
    },
    {
      "cell_type": "markdown",
      "source": [
        "# Routing"
      ],
      "metadata": {
        "id": "ZFA8XgERQ8g9"
      }
    },
    {
      "cell_type": "code",
      "source": [
        "import numpy as np\n",
        "# Definisi cluster dan center\n",
        "cluster_centers = np.array([(4.45826216, 18.6521219),(11.46275245, 22.92155195)])\n",
        "\n",
        "cluster1 = [(4, 21), (5, 18),(4,17),(3,16),(6,22)]\n",
        "cluster2 = [(10, 24), (11, 25), (12, 24),(13,20),(12,21)]\n",
        "\n",
        "\n",
        "result_clusters = [cluster1, cluster2]\n",
        "\n",
        "# Definisi cluster_sizes\n",
        "cluster_sizes = {\n",
        "    tuple(np.round(tuple(center), decimals=3)): len(cluster) for center, cluster in zip(cluster_centers, result_clusters)\n",
        "}\n"
      ],
      "metadata": {
        "id": "vhUg8lWFQ_SM"
      },
      "execution_count": null,
      "outputs": []
    },
    {
      "cell_type": "code",
      "source": [
        "import numpy as np\n",
        "\n",
        "# Fungsi untuk menghitung matriks jarak Euclidean antar lokasi\n",
        "def generate_distance_matrix(locations):\n",
        "    n = len(locations)\n",
        "    distances = np.zeros((n, n))\n",
        "\n",
        "    for i in range(n):\n",
        "        for j in range(n):\n",
        "            distances[i][j] = euclidean_distance(locations[i], locations[j])\n",
        "\n",
        "    return distances\n",
        "\n",
        "# Fungsi untuk menghitung jarak Euclidean antara dua titik\n",
        "def euclidean_distance(point1, point2):\n",
        "    return np.sqrt((point1[0] - point2[0])**2 + (point1[1] - point2[1])**2)\n",
        "\n",
        "# Fungsi untuk inisialisasi kromosom dengan urutan titik menggunakan heuristik ANN\n",
        "def ann_initialization(n, start_point, start_time, end_time, result_clusters, cluster_centers):\n",
        "    remaining_points = set(range(1, n + 1))\n",
        "    chromosome = [0] + [start_point + 1] + [0]\n",
        "\n",
        "    if start_point + 1 in remaining_points:\n",
        "        remaining_points.remove(start_point + 1)\n",
        "\n",
        "    current_time = start_time\n",
        "\n",
        "    while remaining_points:\n",
        "        current_point = chromosome[-2] - 1\n",
        "\n",
        "        if 0 <= current_point < n:\n",
        "            nearest_neighbor = min(remaining_points, key=lambda x: euclidean_distance(cluster_centers[current_point], cluster_centers[x - 1]))\n",
        "\n",
        "            cluster_sizes = {tuple(np.round(tuple(center), decimals=3)): len(cluster) for center, cluster in zip(cluster_centers, result_clusters)}\n",
        "            truck_travel_time = euclidean_distance(cluster_centers[current_point], cluster_centers[nearest_neighbor - 1]) * 2\n",
        "\n",
        "            current_cluster_size = cluster_sizes.get(current_point, 0)\n",
        "            service_time_drone = (2 * 0.57 * 4) + (3 * current_cluster_size) +(5)\n",
        "\n",
        "            current_cluster_size = cluster_sizes.get(current_point, 0)\n",
        "            total_time = current_time + service_time_drone + truck_travel_time\n",
        "\n",
        "            if start_time <= total_time <= end_time:\n",
        "                chromosome.insert(-1, nearest_neighbor)\n",
        "                remaining_points.remove(nearest_neighbor)\n",
        "                current_time = total_time\n",
        "        else:\n",
        "            break\n",
        "\n",
        "    return chromosome\n",
        "\n",
        "# Membangkitkan populasi awal dengan urutan titik menggunakan heuristik ANN\n",
        "def generate_initial_population_ann(n, size, start_time, end_time):\n",
        "    population = []\n",
        "    for i in range(size):\n",
        "        chromosome = ann_initialization(n, i, start_time, end_time, result_clusters, cluster_centers)\n",
        "        population.append(chromosome)\n",
        "    return population\n",
        "\n",
        "# Fungsi untuk menghitung time windows\n",
        "def calculate_time_windows(chromosome, start_time, distances, depot_location, cluster_sizes):\n",
        "    current_time = start_time\n",
        "    time_windows = []\n",
        "\n",
        "    cluster_sizes = {tuple(np.round(tuple(center), decimals=3)): len(cluster) for center, cluster in zip(cluster_centers, result_clusters)}\n",
        "    for i in range(len(chromosome) - 1):\n",
        "        current_point = chromosome[i]\n",
        "        next_point = chromosome[i + 1]\n",
        "\n",
        "        if current_point == 0:\n",
        "            depot_to_start_distance = euclidean_distance(depot_location, cluster_centers[next_point - 1])\n",
        "            truck_travel_time = depot_to_start_distance * 2\n",
        "            total_time = current_time + truck_travel_time\n",
        "        elif next_point == 0:\n",
        "            end_to_depot_distance = euclidean_distance(cluster_centers[current_point - 1], depot_location)\n",
        "            truck_travel_time = end_to_depot_distance * 2\n",
        "            current_cluster_size = cluster_sizes.get(tuple(np.round(tuple(cluster_centers[current_point - 1][:2]), decimals=3)), 0)\n",
        "            service_time_drone = (2 * 0.57 * 4) + (3 * current_cluster_size) +(5)\n",
        "            total_time = current_time + service_time_drone + truck_travel_time\n",
        "        else:\n",
        "            current_cluster_size = cluster_sizes.get(tuple(np.round(tuple(cluster_centers[current_point - 1][:2]), decimals=3)), 0)\n",
        "            service_time_drone = (2 * 0.57 * 4) + (3 * current_cluster_size) +(5)\n",
        "            truck_travel_time = distances[current_point - 1][next_point - 1] * 2\n",
        "            total_time = current_time + service_time_drone + truck_travel_time\n",
        "\n",
        "        time_windows.append((convert_to_time(int(current_time)), convert_to_time(int(total_time))))\n",
        "        current_time = total_time\n",
        "\n",
        "    return time_windows\n",
        "\n",
        "# Fungsi untuk menghitung total jarak\n",
        "def calculate_total_distance(chromosome, distances, depot_location, start_time):\n",
        "    total_distance = 0\n",
        "    current_time = start_time\n",
        "\n",
        "    for i in range(len(chromosome) - 1):\n",
        "        current_point = chromosome[i]\n",
        "        next_point = chromosome[i + 1]\n",
        "\n",
        "        if current_point == 0 and next_point != 0:\n",
        "            depot_to_start_distance = euclidean_distance(depot_location, cluster_centers[next_point - 1])\n",
        "            total_distance += depot_to_start_distance\n",
        "            truck_travel_distance = depot_to_start_distance\n",
        "        elif current_point != 0 and next_point == 0:\n",
        "            end_to_depot_distance = euclidean_distance(cluster_centers[current_point - 1], depot_location)\n",
        "            total_distance += end_to_depot_distance\n",
        "            truck_travel_distance = end_to_depot_distance\n",
        "        else:\n",
        "            truck_travel_distance = distances[current_point - 1][next_point - 1]\n",
        "            total_distance += truck_travel_distance\n",
        "\n",
        "    return total_distance\n",
        "\n",
        "# Fungsi untuk mengonversi waktu dari menit ke format jam\n",
        "def convert_to_time(minutes):\n",
        "    hours = int(minutes) // 60\n",
        "    minutes = int(minutes) % 60\n",
        "    return f\"{hours:02d}:{minutes:02d}\"\n",
        "\n",
        "# Input\n",
        "depot_location = (0, 25)\n",
        "n = len(cluster_centers)\n",
        "ukuran_populasi = 2\n",
        "start_time = 480\n",
        "end_time = 1020\n",
        "\n",
        "# Membuat matriks jarak\n",
        "distances = generate_distance_matrix(cluster_centers)\n",
        "print (distances)\n",
        "# Membangkitkan populasi menggunakan ANN\n",
        "population = generate_initial_population_ann(n, ukuran_populasi, start_time, end_time)\n",
        "\n",
        "# Menghasilkan output\n",
        "for idx, chrom in enumerate(population):\n",
        "    total_distance = calculate_total_distance(chrom, distances, depot_location, start_time)\n",
        "    tw = calculate_time_windows(chrom, start_time, distances, depot_location, cluster_sizes)\n",
        "    tw_in_hours = [(start, end) for start, end in tw]\n",
        "\n",
        "    print(f\"Rute {idx + 1} : {chrom},\\nTime Windows: {tw_in_hours}, \\nTotal Distance: {total_distance} km\")\n"
      ],
      "metadata": {
        "colab": {
          "base_uri": "https://localhost:8080/"
        },
        "id": "3xKxfP2rRBv1",
        "outputId": "eaa7b809-eac9-4f94-dd63-12e7ef169943"
      },
      "execution_count": null,
      "outputs": [
        {
          "output_type": "stream",
          "name": "stdout",
          "text": [
            "[[0.         8.20310412]\n",
            " [8.20310412 0.        ]]\n",
            "Rute 1 : [0, 1, 2, 0],\n",
            "Time Windows: [('08:00', '08:15'), ('08:15', '08:56'), ('08:56', '09:44')], \n",
            "Total Distance: 27.609806021157148 km\n",
            "Rute 2 : [0, 2, 1, 0],\n",
            "Time Windows: [('08:00', '08:23'), ('08:23', '09:04'), ('09:04', '09:44')], \n",
            "Total Distance: 27.609806021157148 km\n"
          ]
        }
      ]
    },
    {
      "cell_type": "code",
      "source": [
        "import random\n",
        "# Fungsi untuk menghitung nilai fitness\n",
        "def calculate_fitness(chromosome, distances, depot_location, start_time, end_time):\n",
        "    total_distance = 0 #Inisiasi total jarak tempuh rute\n",
        "\n",
        "    # untuk memanipulasi agar pasangan titiknya berturut-turut (misalkan : 1 (x1,y1) ke 2 (x2,y2))\n",
        "    for i in range(len(chromosome) - 1):\n",
        "        # current_point diatur ke nilai dari elemen kromosom i\n",
        "        current_point = chromosome[i]\n",
        "        # next_poit diatur ke nilai pada elemen kromosom i + 1\n",
        "        next_point = chromosome[i + 1]\n",
        "\n",
        "        # Jika current_point merupakan depot maka akan dihitung jarak dan time windows dari depot\n",
        "        # menghitung jarak dan time windpws dari depot ke titik awal\n",
        "        if current_point == 0 and next_point != 0:\n",
        "            # Jarak dan waktu tempuh dari depot ke lokasi awal\n",
        "            depot_to_start_distance = euclidean_distance(depot_location, cluster_centers[next_point - 1])\n",
        "            # 2 disini adalah kecepatan rata-rata truk dalam menit/km\n",
        "            truck_travel_time = depot_to_start_distance * 2\n",
        "            # menghitung jarak dari depot ke titik awal\n",
        "            total_distance += depot_to_start_distance\n",
        "\n",
        "        # Memeriksa apakah next_point adalah depot\n",
        "        elif current_point != 0 and next_point == 0:\n",
        "            # Jika next_point merupakan depot maka akan dihitung time windows dari titik terakhir ke depot\n",
        "            # Jarak dan waktu tempuh dari lokasi akhir ke depot\n",
        "            end_to_depot_distance = euclidean_distance(cluster_centers[current_point - 1], depot_location)\n",
        "            # 2 disini adalah kecepatan rata-rata truk dalam menit/k\n",
        "            truck_travel_time = end_to_depot_distance * 2\n",
        "            # menghitung jarak dari titik terakhir ke depot\n",
        "            total_distance += end_to_depot_distance\n",
        "\n",
        "        else:\n",
        "            # Perhitungan waktu tempuh truk\n",
        "            truck_travel_time = distances[current_point - 1][next_point - 1] * 2\n",
        "\n",
        "            # Perhitungan total waktu dan total distance untuk jalur\n",
        "            total_distance += distances[current_point - 1][next_point - 1]\n",
        "\n",
        "    # Menghitung nilai fitness\n",
        "    fitness = (1 / (total_distance ))\n",
        "\n",
        "    return fitness\n",
        "\n",
        "# Fungsi seleksi menggunakan Roulette Wheel Selection\n",
        "def roulette_wheel_selection(populasi, fitness_values):\n",
        "    total_fitness = sum(fitness_values)\n",
        "    pick = random.uniform(0, total_fitness)\n",
        "    current_fitness = 0\n",
        "\n",
        "    for i in range(len(populasi)):\n",
        "        current_fitness += fitness_values[i]\n",
        "        if current_fitness > pick:\n",
        "            return populasi[i]\n",
        "\n",
        "# Fungsi crossover menggunakan Order Crossover (OX)\n",
        "def order_crossover(parent1, parent2):\n",
        "    # Rentang yang akan diambil dari parent1 dan parent2 untuk disalin ke anak 1 dan 2\n",
        "    start_index = 1\n",
        "    end_index = 7\n",
        "\n",
        "    child1 = [0] * len(parent1)  # child diinisialisasi sebagai array dengan panjang yang sama dengan panjang kromosom orang tua\n",
        "    child2 = [0] * len(parent1)\n",
        "\n",
        "    child1[start_index:end_index + 1] = parent1[start_index:end_index + 1]  # Menyalin sub kromosom dari parent1\n",
        "    child2[start_index:end_index + 1] = parent2[start_index:end_index + 1]\n",
        "\n",
        "    index_child1 = end_index + 1  # sebagai posisi yang akan diisi oleh parent 2\n",
        "    index_child2 = end_index + 1\n",
        "\n",
        "    # mengisi gen pada child yang tidak disalin oleh parent 1\n",
        "    for gene in parent2[end_index + 1:] + parent2[:end_index + 1]:\n",
        "        if gene not in child1:\n",
        "            child1[index_child1 % len(parent1)] = gene\n",
        "            index_child1 += 1\n",
        "\n",
        "    for gene in parent1[end_index + 1:] + parent1[:end_index + 1]:\n",
        "        if gene not in child2:\n",
        "            child2[index_child2 % len(parent1)] = gene\n",
        "            index_child2 += 1\n",
        "\n",
        "    return child1, child2\n",
        "\n",
        "\n",
        "# Fungsi mutasi menggunakan Inversion Mutation\n",
        "def inversion_mutation(chromosome, prob_mutasi):\n",
        "    # Rentang kromosom yang akan diambil untuk melakukan mutasi\n",
        "    start_index = 1\n",
        "    end_index = len(chromosome) - 2\n",
        "\n",
        "    for i in range (len(chromosome)):\n",
        "      if random.random()<prob_mutasi :\n",
        "         #untuk memilih dua posisi secara acak\n",
        "          pos1, pos2 = sorted(random.sample(range(start_index, end_index + 1), 2))\n",
        "          # Melakukan inversi (memutar rute dari dua posisi acak yang telah dipilih)\n",
        "          chromosome[pos1:pos2+1] = list(reversed(chromosome[pos1:pos2+1]))\n",
        "    return chromosome\n",
        "\n",
        "def genetic_algorithm(population_size, panjang_gen, generations, prob_crossover, prob_mutasi):\n",
        "    n = len(distances)\n",
        "    population = generate_initial_population_ann(n, ukuran_populasi, start_time, end_time)\n",
        "    for generation in range(generations):\n",
        "        fitness_values = [calculate_fitness(chromosome, distances, depot_location, start_time, end_time) for chromosome in population]\n",
        "\n",
        "        best_index = np.argmax(fitness_values)  # Menggunakan np.argmax() untuk mendapatkan indeks kromosom terbaik\n",
        "        hasil_terbaik = population[best_index]\n",
        "\n",
        "        populasi_baru = []\n",
        "\n",
        "        for _ in range(population_size // 2):\n",
        "            parent1 = roulette_wheel_selection(population, fitness_values)\n",
        "            parent2 = roulette_wheel_selection(population, fitness_values)\n",
        "\n",
        "            if random.uniform(0, 1) < prob_crossover:\n",
        "                child1, child2 = order_crossover(parent1, parent2)\n",
        "            else:\n",
        "                child1, child2 = parent1[:], parent2[:]\n",
        "\n",
        "            child1 = inversion_mutation(child1, prob_mutasi)\n",
        "\n",
        "            populasi_baru.extend([child1, child2])\n",
        "\n",
        "        population = populasi_baru\n",
        "\n",
        "    return hasil_terbaik\n",
        "\n",
        "# Penggunaan algoritma genetika\n",
        "population_size = 2\n",
        "n = 2\n",
        "generations = 100\n",
        "prob_crossover = 0.6\n",
        "prob_mutasi = 0.001\n",
        "\n",
        "result = genetic_algorithm(population_size, n, generations, prob_crossover, prob_mutasi)\n",
        "print(\"Hasil Terbaik (Chromosome):\", result)\n",
        "\n",
        "# Menghitung nilai fitness dari hasil terbaik\n",
        "best_fitness = calculate_fitness(result, distances, depot_location, start_time, end_time)\n",
        "\n",
        "print(\"Nilai Fitness dari Hasil Terbaik:\", best_fitness)"
      ],
      "metadata": {
        "id": "DecfkWOuRFpC",
        "colab": {
          "base_uri": "https://localhost:8080/"
        },
        "outputId": "644ecc0b-e71b-465e-99ad-4a3212bc9307"
      },
      "execution_count": null,
      "outputs": [
        {
          "output_type": "stream",
          "name": "stdout",
          "text": [
            "Hasil Terbaik (Chromosome): [0, 2, 1, 0]\n",
            "Nilai Fitness dari Hasil Terbaik: 0.03621901578133903\n"
          ]
        }
      ]
    },
    {
      "cell_type": "code",
      "source": [
        "# menghitung time windows untuk best solution\n",
        "# Menghasilkan output\n",
        "total_distance = calculate_total_distance(result, distances, depot_location, start_time)\n",
        "tw = calculate_time_windows(result, start_time, distances, depot_location, cluster_sizes)\n",
        "tw_in_hours = [(start, end) for start, end in tw]\n",
        "\n",
        "print(f\"Rute {idx + 1} : {result},\\nTime Windows: {tw_in_hours}, \\nTotal Distance: {total_distance} km\")"
      ],
      "metadata": {
        "id": "xtJZkKn6RJUZ",
        "colab": {
          "base_uri": "https://localhost:8080/"
        },
        "outputId": "f27b1700-fa59-4843-f920-52aeba7eb48c"
      },
      "execution_count": null,
      "outputs": [
        {
          "output_type": "stream",
          "name": "stdout",
          "text": [
            "Rute 2 : [0, 2, 1, 0],\n",
            "Time Windows: [('08:00', '08:23'), ('08:23', '09:04'), ('09:04', '09:44')], \n",
            "Total Distance: 27.609806021157148 km\n"
          ]
        }
      ]
    },
    {
      "cell_type": "code",
      "source": [
        "import numpy as np\n",
        "import math\n",
        "import random\n",
        "import matplotlib.pyplot as plt\n",
        "\n",
        "# Fungsi untuk plotting rute terbaik\n",
        "def plot_best_route(best_chromosome, depot_location, centers):\n",
        "    route_x = []\n",
        "    route_y = []\n",
        "\n",
        "    for point in best_chromosome:\n",
        "        x, y = centers[point - 1] if point != 0 else depot_location\n",
        "        route_x.append(x)\n",
        "        route_y.append(y)\n",
        "\n",
        "    # Kembali ke depot untuk menutup rute\n",
        "    route_x.append(depot_location[0])\n",
        "    route_y.append(depot_location[1])\n",
        "\n",
        "    # Plot rute\n",
        "    plt.plot(route_x, route_y, marker='o', linestyle='-')\n",
        "    plt.scatter(depot_location[0], depot_location[1], color='red', marker='D', label='Depot')\n",
        "    plt.scatter(centers[:, 0], centers[:, 1], color='blue', label='Customers')\n",
        "    plt.xlabel('X Coordinate')\n",
        "    plt.ylabel('Y Coordinate')\n",
        "    plt.title('Best Route')\n",
        "    plt.legend()\n",
        "    plt.show()\n",
        "\n",
        "# Plot rute terbaik\n",
        "plot_best_route(result, depot_location, cluster_centers)\n"
      ],
      "metadata": {
        "id": "y83KckseRLvc",
        "colab": {
          "base_uri": "https://localhost:8080/",
          "height": 472
        },
        "outputId": "d7422dfb-b6dc-4261-b05e-943287eaea40"
      },
      "execution_count": null,
      "outputs": [
        {
          "output_type": "display_data",
          "data": {
            "text/plain": [
              "<Figure size 640x480 with 1 Axes>"
            ],
            "image/png": "[encoded data removed]"
          },
          "metadata": {}
        }
      ]
    }
  ]
}